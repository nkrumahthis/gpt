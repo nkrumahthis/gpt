{
 "cells": [
  {
   "cell_type": "markdown",
   "metadata": {},
   "source": [
    "# kjv gpt model"
   ]
  },
  {
   "cell_type": "code",
   "execution_count": 2,
   "metadata": {},
   "outputs": [
    {
     "name": "stdout",
     "output_type": "stream",
     "text": [
      "zsh:1: command not found: wget\n"
     ]
    }
   ],
   "source": [
    "# starting with a data set to train on\n",
    "!wget https://https://www.o-bible.com/download/kjv.txt "
   ]
  },
  {
   "cell_type": "code",
   "execution_count": 3,
   "metadata": {},
   "outputs": [],
   "source": [
    "# read it and inspect it\n",
    "with open('kjv.txt', 'r', encoding='utf-8') as f:\n",
    "    text = f.read()\n",
    "    "
   ]
  },
  {
   "cell_type": "code",
   "execution_count": 4,
   "metadata": {},
   "outputs": [
    {
     "name": "stdout",
     "output_type": "stream",
     "text": [
      "length of dataset in characters:  4404381\n"
     ]
    }
   ],
   "source": [
    "print(\"length of dataset in characters: \", len(text))"
   ]
  },
  {
   "cell_type": "code",
   "execution_count": 5,
   "metadata": {},
   "outputs": [
    {
     "name": "stdout",
     "output_type": "stream",
     "text": [
      "Ge1:1 In the beginning God created the heaven and the earth.\n",
      "Ge1:2 And the earth was without form, and void; and darkness was upon the face of the deep. And the Spirit of God moved upon the face of the waters.\n",
      "Ge1:3 And God said, Let there be light: and there was light.\n",
      "Ge1:4 And God saw the light, that it was good: and God divided the light from the darkness.\n",
      "Ge1:5 And God called the light Day, and the darkness he called Night. And the evening and the morning were the first day.\n",
      "Ge1:6 And God said, Let there be a firmament in the midst of the waters, and let it divide the waters from the waters.\n",
      "Ge1:7 And God made the firmament, and divided the waters which were under the firmament from the waters which were above the firmament: and it was so.\n",
      "Ge1:8 And God called the firmament Heaven. And the evening and the morning were the second day.\n",
      "Ge1:9 And God said, Let the waters under the heaven be gathered together unto one place, and let the dry land appear: and it was so.\n",
      "Ge1:10 And God c\n"
     ]
    }
   ],
   "source": [
    "# let's look at the first 1000 characters\n",
    "print(text[:1000])"
   ]
  },
  {
   "cell_type": "code",
   "execution_count": 6,
   "metadata": {},
   "outputs": [
    {
     "name": "stdout",
     "output_type": "stream",
     "text": [
      "\n",
      " !'(),-.0123456789:;?ABCDEFGHIJKLMNOPQRSTUVWYZabcdefghijklmnopqrstuvwxyz\n",
      "73\n"
     ]
    }
   ],
   "source": [
    "# here are all the unique characters that occur in this text\n",
    "chars = sorted(list(set(text)))\n",
    "vocab_size = len(chars)\n",
    "print(''.join(chars))\n",
    "print(vocab_size)"
   ]
  },
  {
   "cell_type": "code",
   "execution_count": 7,
   "metadata": {},
   "outputs": [
    {
     "name": "stdout",
     "output_type": "stream",
     "text": [
      "[54, 51, 58, 58, 61, 1, 69, 61, 64, 58, 50]\n",
      "hello world\n"
     ]
    }
   ],
   "source": [
    "# create a mapping from characters to integers\n",
    "stoi = { ch:i for i,ch in enumerate(chars) }\n",
    "itos = { i:ch for i,ch in enumerate(chars) }\n",
    "encode = lambda s: [stoi[c] for c in s] # encoder: take a string, output a list of integers\n",
    "decode = lambda l: ''.join([itos[i] for i in l]) # decoder: take a list of integers, output a string\n",
    "\n",
    "print(encode(\"hello world\"))\n",
    "print(decode(encode(\"hello world\")))"
   ]
  },
  {
   "cell_type": "code",
   "execution_count": 8,
   "metadata": {},
   "outputs": [
    {
     "name": "stdout",
     "output_type": "stream",
     "text": [
      "torch.Size([4404381]) torch.int64\n",
      "tensor([28, 51, 10, 19, 10,  1, 30, 60,  1, 66, 54, 51,  1, 48, 51, 53, 55, 60,\n",
      "        60, 55, 60, 53,  1, 28, 61, 50,  1, 49, 64, 51, 47, 66, 51, 50,  1, 66,\n",
      "        54, 51,  1, 54, 51, 47, 68, 51, 60,  1, 47, 60, 50,  1, 66, 54, 51,  1,\n",
      "        51, 47, 64, 66, 54,  8,  0, 28, 51, 10, 19, 11,  1, 22, 60, 50,  1, 66,\n",
      "        54, 51,  1, 51, 47, 64, 66, 54,  1, 69, 47, 65,  1, 69, 55, 66, 54, 61,\n",
      "        67, 66,  1, 52, 61, 64, 59,  6,  1, 47, 60, 50,  1, 68, 61, 55, 50, 20,\n",
      "         1, 47, 60, 50,  1, 50, 47, 64, 57, 60, 51, 65, 65,  1, 69, 47, 65,  1,\n",
      "        67, 62, 61, 60,  1, 66, 54, 51,  1, 52, 47, 49, 51,  1, 61, 52,  1, 66,\n",
      "        54, 51,  1, 50, 51, 51, 62,  8,  1, 22, 60, 50,  1, 66, 54, 51,  1, 40,\n",
      "        62, 55, 64, 55, 66,  1, 61, 52,  1, 28, 61, 50,  1, 59, 61, 68, 51, 50,\n",
      "         1, 67, 62, 61, 60,  1, 66, 54, 51,  1, 52, 47, 49, 51,  1, 61, 52,  1,\n",
      "        66, 54, 51,  1, 69, 47, 66, 51, 64, 65,  8,  0, 28, 51, 10, 19, 12,  1,\n",
      "        22, 60, 50,  1, 28, 61, 50,  1, 65, 47, 55, 50,  6,  1, 33, 51, 66,  1,\n",
      "        66, 54, 51, 64, 51,  1, 48, 51,  1, 58, 55, 53, 54, 66, 19,  1, 47, 60,\n",
      "        50,  1, 66, 54, 51, 64, 51,  1, 69, 47, 65,  1, 58, 55, 53, 54, 66,  8,\n",
      "         0, 28, 51, 10, 19, 13,  1, 22, 60, 50,  1, 28, 61, 50,  1, 65, 47, 69,\n",
      "         1, 66, 54, 51,  1, 58, 55, 53, 54, 66,  6,  1, 66, 54, 47, 66,  1, 55,\n",
      "        66,  1, 69, 47, 65,  1, 53, 61, 61, 50, 19,  1, 47, 60, 50,  1, 28, 61,\n",
      "        50,  1, 50, 55, 68, 55, 50, 51, 50,  1, 66, 54, 51,  1, 58, 55, 53, 54,\n",
      "        66,  1, 52, 64, 61, 59,  1, 66, 54, 51,  1, 50, 47, 64, 57, 60, 51, 65,\n",
      "        65,  8,  0, 28, 51, 10, 19, 14,  1, 22, 60, 50,  1, 28, 61, 50,  1, 49,\n",
      "        47, 58, 58, 51, 50,  1, 66, 54, 51,  1, 58, 55, 53, 54, 66,  1, 25, 47,\n",
      "        71,  6,  1, 47, 60, 50,  1, 66, 54, 51,  1, 50, 47, 64, 57, 60, 51, 65,\n",
      "        65,  1, 54, 51,  1, 49, 47, 58, 58, 51, 50,  1, 35, 55, 53, 54, 66,  8,\n",
      "         1, 22, 60, 50,  1, 66, 54, 51,  1, 51, 68, 51, 60, 55, 60, 53,  1, 47,\n",
      "        60, 50,  1, 66, 54, 51,  1, 59, 61, 64, 60, 55, 60, 53,  1, 69, 51, 64,\n",
      "        51,  1, 66, 54, 51,  1, 52, 55, 64, 65, 66,  1, 50, 47, 71,  8,  0, 28,\n",
      "        51, 10, 19, 15,  1, 22, 60, 50,  1, 28, 61, 50,  1, 65, 47, 55, 50,  6,\n",
      "         1, 33, 51, 66,  1, 66, 54, 51, 64, 51,  1, 48, 51,  1, 47,  1, 52, 55,\n",
      "        64, 59, 47, 59, 51, 60, 66,  1, 55, 60,  1, 66, 54, 51,  1, 59, 55, 50,\n",
      "        65, 66,  1, 61, 52,  1, 66, 54, 51,  1, 69, 47, 66, 51, 64, 65,  6,  1,\n",
      "        47, 60, 50,  1, 58, 51, 66,  1, 55, 66,  1, 50, 55, 68, 55, 50, 51,  1,\n",
      "        66, 54, 51,  1, 69, 47, 66, 51, 64, 65,  1, 52, 64, 61, 59,  1, 66, 54,\n",
      "        51,  1, 69, 47, 66, 51, 64, 65,  8,  0, 28, 51, 10, 19, 16,  1, 22, 60,\n",
      "        50,  1, 28, 61, 50,  1, 59, 47, 50, 51,  1, 66, 54, 51,  1, 52, 55, 64,\n",
      "        59, 47, 59, 51, 60, 66,  6,  1, 47, 60, 50,  1, 50, 55, 68, 55, 50, 51,\n",
      "        50,  1, 66, 54, 51,  1, 69, 47, 66, 51, 64, 65,  1, 69, 54, 55, 49, 54,\n",
      "         1, 69, 51, 64, 51,  1, 67, 60, 50, 51, 64,  1, 66, 54, 51,  1, 52, 55,\n",
      "        64, 59, 47, 59, 51, 60, 66,  1, 52, 64, 61, 59,  1, 66, 54, 51,  1, 69,\n",
      "        47, 66, 51, 64, 65,  1, 69, 54, 55, 49, 54,  1, 69, 51, 64, 51,  1, 47,\n",
      "        48, 61, 68, 51,  1, 66, 54, 51,  1, 52, 55, 64, 59, 47, 59, 51, 60, 66,\n",
      "        19,  1, 47, 60, 50,  1, 55, 66,  1, 69, 47, 65,  1, 65, 61,  8,  0, 28,\n",
      "        51, 10, 19, 17,  1, 22, 60, 50,  1, 28, 61, 50,  1, 49, 47, 58, 58, 51,\n",
      "        50,  1, 66, 54, 51,  1, 52, 55, 64, 59, 47, 59, 51, 60, 66,  1, 29, 51,\n",
      "        47, 68, 51, 60,  8,  1, 22, 60, 50,  1, 66, 54, 51,  1, 51, 68, 51, 60,\n",
      "        55, 60, 53,  1, 47, 60, 50,  1, 66, 54, 51,  1, 59, 61, 64, 60, 55, 60,\n",
      "        53,  1, 69, 51, 64, 51,  1, 66, 54, 51,  1, 65, 51, 49, 61, 60, 50,  1,\n",
      "        50, 47, 71,  8,  0, 28, 51, 10, 19, 18,  1, 22, 60, 50,  1, 28, 61, 50,\n",
      "         1, 65, 47, 55, 50,  6,  1, 33, 51, 66,  1, 66, 54, 51,  1, 69, 47, 66,\n",
      "        51, 64, 65,  1, 67, 60, 50, 51, 64,  1, 66, 54, 51,  1, 54, 51, 47, 68,\n",
      "        51, 60,  1, 48, 51,  1, 53, 47, 66, 54, 51, 64, 51, 50,  1, 66, 61, 53,\n",
      "        51, 66, 54, 51, 64,  1, 67, 60, 66, 61,  1, 61, 60, 51,  1, 62, 58, 47,\n",
      "        49, 51,  6,  1, 47, 60, 50,  1, 58, 51, 66,  1, 66, 54, 51,  1, 50, 64,\n",
      "        71,  1, 58, 47, 60, 50,  1, 47, 62, 62, 51, 47, 64, 19,  1, 47, 60, 50,\n",
      "         1, 55, 66,  1, 69, 47, 65,  1, 65, 61,  8,  0, 28, 51, 10, 19, 10,  9,\n",
      "         1, 22, 60, 50,  1, 28, 61, 50,  1, 49])\n"
     ]
    }
   ],
   "source": [
    "# let's now encode the entire text dataset and store it into a torch.Tensor\n",
    "import torch # we use PyTorch\n",
    "data = torch.tensor(encode(text), dtype=torch.long)\n",
    "print(data.shape, data.dtype)\n",
    "print(data[:1000]) # the 1000 characters we looked at earlier will look like this to GPT"
   ]
  },
  {
   "cell_type": "code",
   "execution_count": 9,
   "metadata": {},
   "outputs": [],
   "source": [
    "# let's now split up the data into training and validation sets\n",
    "n = int(0.9*len(data)) # first 90% will be train, rest val\n",
    "train_data = data[:n]\n",
    "val_data = data[n:]"
   ]
  },
  {
   "cell_type": "code",
   "execution_count": 10,
   "metadata": {},
   "outputs": [
    {
     "data": {
      "text/plain": [
       "tensor([28, 51, 10, 19, 10,  1, 30, 60,  1])"
      ]
     },
     "execution_count": 10,
     "metadata": {},
     "output_type": "execute_result"
    }
   ],
   "source": [
    "block_size = 8\n",
    "train_data[:block_size + 1]"
   ]
  },
  {
   "cell_type": "code",
   "execution_count": 11,
   "metadata": {},
   "outputs": [
    {
     "name": "stdout",
     "output_type": "stream",
     "text": [
      "when input is tensor([28]) the target: 51\n",
      "when input is tensor([28, 51]) the target: 10\n",
      "when input is tensor([28, 51, 10]) the target: 19\n",
      "when input is tensor([28, 51, 10, 19]) the target: 10\n",
      "when input is tensor([28, 51, 10, 19, 10]) the target: 1\n",
      "when input is tensor([28, 51, 10, 19, 10,  1]) the target: 30\n",
      "when input is tensor([28, 51, 10, 19, 10,  1, 30]) the target: 60\n",
      "when input is tensor([28, 51, 10, 19, 10,  1, 30, 60]) the target: 1\n"
     ]
    }
   ],
   "source": [
    "x = train_data[:block_size]\n",
    "y = train_data[1:block_size + 1]\n",
    "for t in range(block_size):\n",
    "    context = x[:t+1]\n",
    "    target = y[t]\n",
    "    print(f\"when input is {context} the target: {target}\")"
   ]
  },
  {
   "cell_type": "code",
   "execution_count": 12,
   "metadata": {},
   "outputs": [
    {
     "name": "stdout",
     "output_type": "stream",
     "text": [
      "inputs:\n",
      "torch.Size([4, 8])\n",
      "tensor([[ 1, 49, 61, 64, 50,  1, 69, 54],\n",
      "        [58, 51, 59,  6,  1, 31, 51, 64],\n",
      "        [67, 66,  1, 66, 54, 55, 65,  1],\n",
      "        [ 8,  0, 26, 72, 51, 13, 14, 19]])\n",
      "targets:\n",
      "torch.Size([4, 8])\n",
      "tensor([[49, 61, 64, 50,  1, 69, 54, 55],\n",
      "        [51, 59,  6,  1, 31, 51, 64, 67],\n",
      "        [66,  1, 66, 54, 55, 65,  1, 61],\n",
      "        [ 0, 26, 72, 51, 13, 14, 19, 10]])\n",
      "----\n",
      "when input is [1] the target: 49\n",
      "when input is [1, 49] the target: 61\n",
      "when input is [1, 49, 61] the target: 64\n",
      "when input is [1, 49, 61, 64] the target: 50\n",
      "when input is [1, 49, 61, 64, 50] the target: 1\n",
      "when input is [1, 49, 61, 64, 50, 1] the target: 69\n",
      "when input is [1, 49, 61, 64, 50, 1, 69] the target: 54\n",
      "when input is [1, 49, 61, 64, 50, 1, 69, 54] the target: 55\n",
      "when input is [58] the target: 51\n",
      "when input is [58, 51] the target: 59\n",
      "when input is [58, 51, 59] the target: 6\n",
      "when input is [58, 51, 59, 6] the target: 1\n",
      "when input is [58, 51, 59, 6, 1] the target: 31\n",
      "when input is [58, 51, 59, 6, 1, 31] the target: 51\n",
      "when input is [58, 51, 59, 6, 1, 31, 51] the target: 64\n",
      "when input is [58, 51, 59, 6, 1, 31, 51, 64] the target: 67\n",
      "when input is [67] the target: 66\n",
      "when input is [67, 66] the target: 1\n",
      "when input is [67, 66, 1] the target: 66\n",
      "when input is [67, 66, 1, 66] the target: 54\n",
      "when input is [67, 66, 1, 66, 54] the target: 55\n",
      "when input is [67, 66, 1, 66, 54, 55] the target: 65\n",
      "when input is [67, 66, 1, 66, 54, 55, 65] the target: 1\n",
      "when input is [67, 66, 1, 66, 54, 55, 65, 1] the target: 61\n",
      "when input is [8] the target: 0\n",
      "when input is [8, 0] the target: 26\n",
      "when input is [8, 0, 26] the target: 72\n",
      "when input is [8, 0, 26, 72] the target: 51\n",
      "when input is [8, 0, 26, 72, 51] the target: 13\n",
      "when input is [8, 0, 26, 72, 51, 13] the target: 14\n",
      "when input is [8, 0, 26, 72, 51, 13, 14] the target: 19\n",
      "when input is [8, 0, 26, 72, 51, 13, 14, 19] the target: 10\n"
     ]
    }
   ],
   "source": [
    "torch.manual_seed(1111)\n",
    "batch_size = 4 # how many independent sequences will we process in parallel?\n",
    "block_size = 8 # what is the maximum context length for predictions?\n",
    "\n",
    "def get_batch(split):\n",
    "    # generate a small batch of data of inputs x and targets y\n",
    "    data = train_data if split == 'train' else val_data\n",
    "    ix = torch.randint(len(data) - block_size, (batch_size,))\n",
    "    x = torch.stack([data[i:i+block_size] for i in ix])\n",
    "    y = torch.stack([data[i+1:i+block_size+1] for i in ix])\n",
    "    return x,y\n",
    "\n",
    "xb, yb = get_batch('train')\n",
    "print('inputs:')\n",
    "print(xb.shape)\n",
    "print(xb)\n",
    "print('targets:')\n",
    "print(yb.shape)\n",
    "print(yb)\n",
    "\n",
    "print('----')\n",
    "\n",
    "for b in range(batch_size): # batch dimension\n",
    "    for t in range(block_size): # time dimension\n",
    "        context = xb[b, :t+1]\n",
    "        target = yb[b,t]\n",
    "        print(f\"when input is {context.tolist()} the target: {target}\")"
   ]
  },
  {
   "cell_type": "code",
   "execution_count": 13,
   "metadata": {},
   "outputs": [
    {
     "name": "stdout",
     "output_type": "stream",
     "text": [
      "tensor([[ 1, 49, 61, 64, 50,  1, 69, 54],\n",
      "        [58, 51, 59,  6,  1, 31, 51, 64],\n",
      "        [67, 66,  1, 66, 54, 55, 65,  1],\n",
      "        [ 8,  0, 26, 72, 51, 13, 14, 19]])\n"
     ]
    }
   ],
   "source": [
    "print(xb) # our input to the transformer"
   ]
  },
  {
   "cell_type": "code",
   "execution_count": 14,
   "metadata": {},
   "outputs": [
    {
     "name": "stdout",
     "output_type": "stream",
     "text": [
      "torch.Size([32, 73])\n",
      "tensor(4.9410, grad_fn=<NllLossBackward0>)\n",
      "\n",
      "M4eGPCyeuRYgj?NHM0?IrNcz4DHTBe;Vu2?1ohmDhycfnA:KRg0r'B2o:Ol)b7ahbJV2PS\n",
      "O8V1v!1)0Ax?3c\n",
      "IeoHnM9LRbd;DF\n"
     ]
    }
   ],
   "source": [
    "import torch\n",
    "import torch.nn as nn\n",
    "from torch.nn import functional as F\n",
    "torch.manual_seed(1111)\n",
    "\n",
    "class BigramLanguagemodel(nn.Module):\n",
    "    def __init__(self, vocab_size):\n",
    "        super().__init__()\n",
    "        # each token directly reads off the logits for the next token from a lookup table\n",
    "        self.token_embedding_table = nn.Embedding(vocab_size, vocab_size)\n",
    "    \n",
    "    def forward(self, idx, targets=None):\n",
    "        # idx and targets are both (B,T) tensor of integers\n",
    "        logits = self.token_embedding_table(idx) # (B,T,C)\n",
    "\n",
    "        if targets is None:\n",
    "            loss = None\n",
    "        else: \n",
    "            B, T, C = logits.shape\n",
    "            logits = logits.view(B*T, C)\n",
    "            targets = targets.view(B*T)\n",
    "            loss = F.cross_entropy(logits, targets)\n",
    "\n",
    "        return logits, loss\n",
    "    \n",
    "    def generate(self, idx, max_new_tokens):\n",
    "        # idx is (B, T) array of indices in the current context\n",
    "        for _ in range(max_new_tokens):\n",
    "            # get the predictions\n",
    "            logits, loss = self(idx)\n",
    "            # forus only on the last time step\n",
    "            logits = logits[:, -1, :] # becomes (B, C)\n",
    "            # apply softmax to get probabilities\n",
    "            probs = F.softmax(logits, dim=-1) # (B, C)\n",
    "            # sample from the distribution\n",
    "            idx_next = torch.multinomial(probs, num_samples=1) # (B, 1)\n",
    "            # append sampled index to the running sequence\n",
    "            idx = torch.cat((idx, idx_next), dim=1) # (B, T+1)\n",
    "        return idx\n",
    "    \n",
    "m = BigramLanguagemodel(vocab_size)\n",
    "logits, loss = m(xb, yb)\n",
    "print(logits.shape)\n",
    "print(loss)\n",
    "\n",
    "print(decode(m.generate(torch.zeros((1,1), dtype=torch.long), max_new_tokens=100)[0].tolist()))"
   ]
  },
  {
   "cell_type": "code",
   "execution_count": 15,
   "metadata": {},
   "outputs": [],
   "source": [
    "# create a PyTorch optimizer\n",
    "optimizer = torch.optim.AdamW(m.parameters(), lr=1e-3)"
   ]
  },
  {
   "cell_type": "code",
   "execution_count": 16,
   "metadata": {},
   "outputs": [
    {
     "name": "stdout",
     "output_type": "stream",
     "text": [
      "2.402892827987671\n"
     ]
    }
   ],
   "source": [
    "batch_size = 32\n",
    "for steps in range(10000):\n",
    "    # sample a batch of data\n",
    "    xb, yb = get_batch('train')\n",
    "    #evaluate the loss\n",
    "    logits, loss = m(xb, yb)\n",
    "    optimizer.zero_grad(set_to_none=True)\n",
    "    loss.backward()\n",
    "    optimizer.step()\n",
    "    \n",
    "print(loss.item())"
   ]
  },
  {
   "cell_type": "code",
   "execution_count": 17,
   "metadata": {},
   "outputs": [
    {
     "name": "stdout",
     "output_type": "stream",
     "text": [
      "\n",
      "Gait sreat ponh s grkif mere ofe ccte senoner TLe m, he wiPriond s aire y f Istof the thone ain f u Gether22:3 an r atec\n"
     ]
    }
   ],
   "source": [
    "print(decode(m.generate(torch.zeros((1,1), dtype=torch.long), max_new_tokens=120)[0].tolist()))"
   ]
  },
  {
   "cell_type": "markdown",
   "metadata": {},
   "source": [
    "# The mathematical trick in self-attention"
   ]
  },
  {
   "cell_type": "markdown",
   "metadata": {},
   "source": []
  },
  {
   "cell_type": "code",
   "execution_count": 18,
   "metadata": {},
   "outputs": [
    {
     "data": {
      "text/plain": [
       "torch.Size([4, 8, 2])"
      ]
     },
     "execution_count": 18,
     "metadata": {},
     "output_type": "execute_result"
    }
   ],
   "source": [
    "# consider the following toy example:\n",
    "\n",
    "torch.manual_seed(1111)\n",
    "B, T, C = 4,8,2 # batch, time, channels\n",
    "x = torch.randn(B, T, C)\n",
    "x.shape"
   ]
  },
  {
   "cell_type": "code",
   "execution_count": 19,
   "metadata": {},
   "outputs": [],
   "source": [
    "# Version 1\n",
    "\n",
    "# We want x[b,t] = mean_{i<=t} x[b,i]\n",
    "xbow = torch.zeros((B,T,C)) # xbow is x bag of words\n",
    "for b in range(B):\n",
    "    for t in range(T):\n",
    "        xprev = x[b, :t+1] # (t,C)\n",
    "        xbow[b,t] = torch.mean(xprev, 0)"
   ]
  },
  {
   "cell_type": "code",
   "execution_count": 20,
   "metadata": {},
   "outputs": [
    {
     "data": {
      "text/plain": [
       "True"
      ]
     },
     "execution_count": 20,
     "metadata": {},
     "output_type": "execute_result"
    }
   ],
   "source": [
    "# Version 2\n",
    "\n",
    "wei = torch.tril(torch.ones(T, T))\n",
    "wei = wei / wei.sum(1, keepdim=True)\n",
    "xbow2 = wei @ x # (B,T,T) @ (B,T,C) ====> (B,T,C)\n",
    "torch.allclose(xbow, xbow2)"
   ]
  },
  {
   "cell_type": "code",
   "execution_count": 21,
   "metadata": {},
   "outputs": [
    {
     "name": "stdout",
     "output_type": "stream",
     "text": [
      "a=\n",
      "tensor([[1.0000, 0.0000, 0.0000],\n",
      "        [0.5000, 0.5000, 0.0000],\n",
      "        [0.3333, 0.3333, 0.3333]])\n",
      "b=\n",
      "tensor([[2., 7.],\n",
      "        [6., 4.],\n",
      "        [6., 5.]])\n",
      "--\n",
      "c=\n",
      "tensor([[2.0000, 7.0000],\n",
      "        [4.0000, 5.5000],\n",
      "        [4.6667, 5.3333]])\n"
     ]
    }
   ],
   "source": [
    "# matrix multiplication explanation\n",
    "\n",
    "torch.manual_seed(42)\n",
    "a = torch.tril(torch.ones(3,3))\n",
    "a = a / torch.sum(a,1, keepdim=True)\n",
    "b = torch.randint(0, 10, (3,2)).float()\n",
    "c = a @ b\n",
    "print('a=')\n",
    "print(a)\n",
    "print('b=')\n",
    "print(b)\n",
    "print('--')\n",
    "print('c=')\n",
    "print(c)"
   ]
  },
  {
   "cell_type": "code",
   "execution_count": 22,
   "metadata": {},
   "outputs": [
    {
     "ename": "NameError",
     "evalue": "name 'tril' is not defined",
     "output_type": "error",
     "traceback": [
      "\u001b[0;31m---------------------------------------------------------------------------\u001b[0m",
      "\u001b[0;31mNameError\u001b[0m                                 Traceback (most recent call last)",
      "Cell \u001b[0;32mIn[22], line 1\u001b[0m\n\u001b[0;32m----> 1\u001b[0m tril\n",
      "\u001b[0;31mNameError\u001b[0m: name 'tril' is not defined"
     ]
    }
   ],
   "source": [
    "# version 3: use Softmax\n",
    "tril = torch.tril(torch.ones(T, T))\n",
    "wei = torch.zeros((T, T))\n",
    "wei = wei.masked_fill(tril == 0, float('-inf'))\n",
    "wei = F.softmax(wei, dim=-1)\n",
    "xbow3 = wei @ x\n",
    "torch.allclose(xbow, xbow3)\n"
   ]
  }
 ],
 "metadata": {
  "kernelspec": {
   "display_name": "base",
   "language": "python",
   "name": "python3"
  },
  "language_info": {
   "codemirror_mode": {
    "name": "ipython",
    "version": 3
   },
   "file_extension": ".py",
   "mimetype": "text/x-python",
   "name": "python",
   "nbconvert_exporter": "python",
   "pygments_lexer": "ipython3",
   "version": "3.11.3"
  },
  "orig_nbformat": 4
 },
 "nbformat": 4,
 "nbformat_minor": 2
}
